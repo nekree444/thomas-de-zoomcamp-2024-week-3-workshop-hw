{
 "cells": [
  {
   "cell_type": "code",
   "execution_count": 1,
   "id": "22fd7f2f-594d-45f7-b80b-d731dbac75c8",
   "metadata": {},
   "outputs": [
    {
     "name": "stdout",
     "output_type": "stream",
     "text": [
      "question 1 --> 8.382332347441762\n",
      "question 2 --> 3.605551275463989\n"
     ]
    }
   ],
   "source": [
    "def square_root_generator(limit):\n",
    "    n = 1\n",
    "    while n <= limit:\n",
    "        yield n ** 0.5\n",
    "        n += 1\n",
    "\n",
    "# Example usage:\n",
    "limit = 5\n",
    "generator = square_root_generator(limit)\n",
    "\n",
    "summer = 0\n",
    "\n",
    "for sqrt_value in generator:\n",
    "    summer += sqrt_value\n",
    "\n",
    "print(\"question 1 -->\", summer)\n",
    "\n",
    "limit = 13\n",
    "generator = square_root_generator(limit)\n",
    "\n",
    "count = 0\n",
    "\n",
    "for sqrt_value in generator:\n",
    "  count += 1\n",
    "  if count == 13:\n",
    "    print(\"question 2 -->\", sqrt_value)"
   ]
  },
  {
   "cell_type": "code",
   "execution_count": 3,
   "id": "a79e7ee6-0dcd-40d2-b27c-ed3fed322068",
   "metadata": {},
   "outputs": [
    {
     "name": "stdout",
     "output_type": "stream",
     "text": [
      "Pipeline dlt_ipykernel_launcher load step completed in 0.22 seconds\n",
      "1 load package(s) were loaded to destination duckdb and into dataset generators\n",
      "The duckdb destination used duckdb:///C:\\Users\\1mitc\\Documents\\vs\\de-zoomcamp-extras\\workshop\\1\\dlt_ipykernel_launcher.duckdb location to store data\n",
      "Load package 1707806090.66142 is LOADED and contains no failed jobs\n",
      "Pipeline dlt_ipykernel_launcher load step completed in 0.22 seconds\n",
      "1 load package(s) were loaded to destination duckdb and into dataset generators\n",
      "The duckdb destination used duckdb:///C:\\Users\\1mitc\\Documents\\vs\\de-zoomcamp-extras\\workshop\\1\\dlt_ipykernel_launcher.duckdb location to store data\n",
      "Load package 1707806091.33311 is LOADED and contains no failed jobs\n"
     ]
    },
    {
     "data": {
      "text/plain": [
       "┌───────┬──────────┬───────┬─────────┬──────────────────┬────────────────┬────────────┐\n",
       "│  id   │   name   │  age  │  city   │   _dlt_load_id   │    _dlt_id     │ occupation │\n",
       "│ int64 │ varchar  │ int64 │ varchar │     varchar      │    varchar     │  varchar   │\n",
       "├───────┼──────────┼───────┼─────────┼──────────────────┼────────────────┼────────────┤\n",
       "│     1 │ Person_1 │    26 │ City_A  │ 1707806090.66142 │ 5wsFtYO3+6nT+g │ NULL       │\n",
       "│     2 │ Person_2 │    27 │ City_A  │ 1707806090.66142 │ WzEFTuZrfAVYHw │ NULL       │\n",
       "│     3 │ Person_3 │    28 │ City_A  │ 1707806090.66142 │ Dpq/qY2Q6igqLQ │ NULL       │\n",
       "│     4 │ Person_4 │    29 │ City_A  │ 1707806090.66142 │ shxOnWpBfnquYw │ NULL       │\n",
       "│     5 │ Person_5 │    30 │ City_A  │ 1707806090.66142 │ 04YieZsldn8AWQ │ NULL       │\n",
       "│     3 │ Person_3 │    33 │ City_B  │ 1707806091.33311 │ paHnrkUQT9Qgeg │ Job_3      │\n",
       "│     4 │ Person_4 │    34 │ City_B  │ 1707806091.33311 │ 7GcPDv7gMF6dwQ │ Job_4      │\n",
       "│     5 │ Person_5 │    35 │ City_B  │ 1707806091.33311 │ y4BHb8/LQZW77g │ Job_5      │\n",
       "│     6 │ Person_6 │    36 │ City_B  │ 1707806091.33311 │ noa3OryRByxy1g │ Job_6      │\n",
       "│     7 │ Person_7 │    37 │ City_B  │ 1707806091.33311 │ mM6Er5sX/Zh24A │ Job_7      │\n",
       "│     8 │ Person_8 │    38 │ City_B  │ 1707806091.33311 │ vakf1HJgnh7E5Q │ Job_8      │\n",
       "├───────┴──────────┴───────┴─────────┴──────────────────┴────────────────┴────────────┤\n",
       "│ 11 rows                                                                   7 columns │\n",
       "└─────────────────────────────────────────────────────────────────────────────────────┘"
      ]
     },
     "metadata": {},
     "output_type": "display_data"
    },
    {
     "data": {
      "text/plain": [
       "┌──────────┐\n",
       "│ sum(age) │\n",
       "│  int128  │\n",
       "├──────────┤\n",
       "│      353 │\n",
       "└──────────┘"
      ]
     },
     "metadata": {},
     "output_type": "display_data"
    }
   ],
   "source": [
    "import dlt\n",
    "import duckdb\n",
    "\n",
    "def people_1():\n",
    "    for i in range(1, 6):\n",
    "        yield {\"ID\": i, \"Name\": f\"Person_{i}\", \"Age\": 25 + i, \"City\": \"City_A\"}\n",
    "\n",
    "def people_2():\n",
    "    for i in range(3, 9):\n",
    "        yield {\"ID\": i, \"Name\": f\"Person_{i}\", \"Age\": 30 + i, \"City\": \"City_B\", \"Occupation\": f\"Job_{i}\"}\n",
    "\n",
    "\n",
    "generator_pipeline = dlt.pipeline(destination='duckdb', dataset_name='generators')\n",
    "\n",
    "info = generator_pipeline.run(people_1(), table_name=\"people\", write_disposition=\"replace\")\n",
    "print(info)\n",
    "\n",
    "#question 3 -->\n",
    "info = generator_pipeline.run(people_2(), table_name=\"people\", write_disposition=\"append\")\n",
    "print(info)\n",
    "\n",
    "#question 4 -->\n",
    "# info = generator_pipeline.run(people_2(), table_name=\"people\", write_disposition=\"merge\", primary_key='ID')\n",
    "# print(info)\n",
    "\n",
    "conn = duckdb.connect(f\"{generator_pipeline.pipeline_name}.duckdb\")\n",
    "\n",
    "conn.sql(f\"SET search_path = '{generator_pipeline.dataset_name}'\")\n",
    "\n",
    "people = conn.sql(\"SELECT * FROM people\")\n",
    "display(people)\n",
    "\n",
    "sum_age1 = conn.sql(\"SELECT SUM(age) FROM people\")\n",
    "display(sum_age1)\n"
   ]
  }
 ],
 "metadata": {
  "kernelspec": {
   "display_name": "Python 3 (ipykernel)",
   "language": "python",
   "name": "python3"
  },
  "language_info": {
   "codemirror_mode": {
    "name": "ipython",
    "version": 3
   },
   "file_extension": ".py",
   "mimetype": "text/x-python",
   "name": "python",
   "nbconvert_exporter": "python",
   "pygments_lexer": "ipython3",
   "version": "3.11.5"
  }
 },
 "nbformat": 4,
 "nbformat_minor": 5
}
